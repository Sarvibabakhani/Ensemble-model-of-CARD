{
 "cells": [
  {
   "cell_type": "markdown",
   "metadata": {
    "id": "FMZDZwhyVG5F"
   },
   "source": [
    "#Ensemble"
   ]
  },
  {
   "cell_type": "markdown",
   "metadata": {
    "id": "PmQbiKeHnlZI"
   },
   "source": [
    "we use [**'densnet.pkl', 'covidnet.pkl', 'attenresnet.pkl'**] for saved history of trained models and [**'test_p_dens.npy', 'test_p_covid.npy', 'test_p_atten.npy'**] for saved prediction of models from test dataset.\n"
   ]
  },
  {
   "cell_type": "code",
   "execution_count": 1,
   "metadata": {
    "id": "elIvKNFpGlvu"
   },
   "outputs": [],
   "source": [
    "import pickle\n",
    "import numpy as np\n",
    "from sklearn.metrics import confusion_matrix, classification_report, accuracy_score\n",
    "\n",
    "from dataloader import *"
   ]
  },
  {
   "cell_type": "markdown",
   "metadata": {
    "id": "OTgSFr-qOhsG"
   },
   "source": [
    "we prepared a sharelink from google dive:\n",
    "\n",
    "https://drive.google.com/drive/folders/1aw7nqrXkBRZp94Ef04s3xeH-2gQRPb97?usp=sharing\n",
    "\n",
    "Add a shortcut to your own google drive and mount drive on google colab."
   ]
  },
  {
   "cell_type": "code",
   "execution_count": 2,
   "metadata": {
    "colab": {
     "base_uri": "https://localhost:8080/"
    },
    "id": "oZFZ5z0VOgwu",
    "outputId": "5a247c96-5e9b-4665-aa74-250bfd88782a"
   },
   "outputs": [
    {
     "name": "stdout",
     "output_type": "stream",
     "text": [
      "Drive already mounted at /content/drive; to attempt to forcibly remount, call drive.mount(\"/content/drive\", force_remount=True).\n"
     ]
    }
   ],
   "source": [
    "from google.colab import drive\n",
    "drive.mount('/content/drive')"
   ]
  },
  {
   "cell_type": "markdown",
   "metadata": {
    "id": "ol75Nj6AvANF"
   },
   "source": [
    "##load data"
   ]
  },
  {
   "cell_type": "code",
   "execution_count": 3,
   "metadata": {
    "colab": {
     "base_uri": "https://localhost:8080/"
    },
    "id": "82yAfnTeIfux",
    "outputId": "4444d831-e11c-4fd1-d046-e23c33e3f5db"
   },
   "outputs": [
    {
     "name": "stdout",
     "output_type": "stream",
     "text": [
      "Found 2928 validated image filenames belonging to 3 classes.\n",
      "Found 732 validated image filenames belonging to 3 classes.\n",
      "Found 915 validated image filenames belonging to 3 classes.\n",
      "Found 50 validated image filenames belonging to 3 classes.\n"
     ]
    }
   ],
   "source": [
    "#DIRECTORIES\n",
    "path_metadata = \"/content/drive/MyDrive/dataset/metadata.csv\" ## directory of dataframe of image directories and classes\n",
    "path_pneumonia = \"/content/drive/MyDrive/dataset/Dataset/pneumonia\" ## directory of images of pneumonia classes\n",
    "directory_dataset='/content/drive/MyDrive/dataset/Dataset' ## directory of all classes folders\n",
    "\n",
    "image_size=(224, 224)\n",
    "batch_size = 32\n",
    "\n",
    "## call a function to true labels\n",
    "_,_,_, y_true,y_true_oh,_,_,_,_,_,_ = data_func(\n",
    "    batch_size ,\n",
    "    path_metadata ,\n",
    "    path_pneumonia ,\n",
    "    directory_dataset,\n",
    "    image_size )"
   ]
  },
  {
   "cell_type": "code",
   "execution_count": 4,
   "metadata": {
    "id": "OxkTf3PyG2AI"
   },
   "outputs": [],
   "source": [
    "### loading the history of each trained model\n",
    "\n",
    "with open('densenet.pkl', 'rb') as fp:\n",
    "    densnet = pickle.load(fp)\n",
    "\n",
    "with open('covidnet.pkl', 'rb') as fp:\n",
    "    covidnet = pickle.load(fp)\n",
    "\n",
    "with open('attenresnet.pkl', 'rb') as fp:\n",
    "    residual_attention = pickle.load(fp)"
   ]
  },
  {
   "cell_type": "code",
   "execution_count": 5,
   "metadata": {
    "id": "FMyvZQeSHAws"
   },
   "outputs": [],
   "source": [
    "## loading the prediction of each trained model on test dataset\n",
    "\n",
    "test_dens = np.load('/content/test_p_dens.npy')\n",
    "test_cov = np.load('/content/test_p_covid.npy')\n",
    "test_res = np.load('/content/test_p_atten.npy')"
   ]
  },
  {
   "cell_type": "markdown",
   "metadata": {
    "id": "-tejnaM5vN7v"
   },
   "source": [
    "## Ensymble Moadel"
   ]
  },
  {
   "cell_type": "code",
   "execution_count": 6,
   "metadata": {
    "id": "yL5a7quuG4yB"
   },
   "outputs": [],
   "source": [
    "# get maximum of accuracy for each model as the best accuracy for each model\n",
    "acc_dens = max(densnet['val_accuracy'])\n",
    "acc_cov = max(covidnet['val_accuracy'])\n",
    "acc_res = max(residual_attention['val_accuracy'])\n",
    "\n",
    "# choose the minimum of the above accuracies as beta\n",
    "beta = min(acc_dens, acc_cov, acc_res)"
   ]
  },
  {
   "cell_type": "code",
   "execution_count": 7,
   "metadata": {
    "id": "LmNMwzAwG78n"
   },
   "outputs": [],
   "source": [
    "#calculating the weights of each models\n",
    "alfa_dens = acc_dens - beta\n",
    "alfa_cov = acc_cov - beta\n",
    "alfa_res = acc_res - beta\n",
    "\n",
    "alfa = [alfa_dens, alfa_cov, alfa_res]"
   ]
  },
  {
   "cell_type": "code",
   "execution_count": 8,
   "metadata": {
    "id": "4ma0Q6jWHDkM"
   },
   "outputs": [],
   "source": [
    "# multiply the prediction of each models to its weight\n",
    "dens = test_dens * alfa_dens\n",
    "cov = test_cov * alfa_cov\n",
    "res = test_res * alfa_res"
   ]
  },
  {
   "cell_type": "code",
   "execution_count": 9,
   "metadata": {
    "id": "3KWmRGwaHGeB"
   },
   "outputs": [],
   "source": [
    "#sum of all weighted prediction to obtain prediction of ensemble model\n",
    "ensemble = dens + cov + res"
   ]
  },
  {
   "cell_type": "markdown",
   "metadata": {
    "id": "lC28JDFavUf1"
   },
   "source": [
    "## Evaluation"
   ]
  },
  {
   "cell_type": "markdown",
   "metadata": {
    "id": "IA3-R7PyZFnL"
   },
   "source": [
    "### precision, recall, fscore"
   ]
  },
  {
   "cell_type": "code",
   "execution_count": 10,
   "metadata": {
    "id": "vvSM8wijHM7q"
   },
   "outputs": [],
   "source": [
    "# preparing test result\n",
    "\n",
    "test_value_max = np.argmax(ensemble,axis=1)\n",
    "test_value_max_oh = convert_to_one_hot(test_value_max,3).T"
   ]
  },
  {
   "cell_type": "code",
   "execution_count": 11,
   "metadata": {
    "colab": {
     "base_uri": "https://localhost:8080/"
    },
    "id": "O3hcMatlHcVx",
    "outputId": "585a0200-889f-4421-a9ff-a84b4e41e48b"
   },
   "outputs": [
    {
     "name": "stdout",
     "output_type": "stream",
     "text": [
      "Accuracy = 95.85%\n",
      "              precision    recall  f1-score   support\n",
      "\n",
      "           0       0.90      0.98      0.94       280\n",
      "           1       0.98      0.99      0.99       320\n",
      "           2       0.99      0.90      0.94       315\n",
      "\n",
      "   micro avg       0.96      0.96      0.96       915\n",
      "   macro avg       0.96      0.96      0.96       915\n",
      "weighted avg       0.96      0.96      0.96       915\n",
      " samples avg       0.96      0.96      0.96       915\n",
      "\n"
     ]
    }
   ],
   "source": [
    "accuracy = accuracy_score(y_true_oh, test_value_max_oh)\n",
    "\n",
    "print('Accuracy = {:.2f}%'.format(accuracy*100))\n",
    "print(classification_report(y_true_oh, test_value_max_oh,target_names=['0','1','2']))"
   ]
  },
  {
   "cell_type": "markdown",
   "metadata": {
    "id": "ZsPN_6sIZOXE"
   },
   "source": [
    "###confusion matrix\n"
   ]
  },
  {
   "cell_type": "code",
   "execution_count": 12,
   "metadata": {
    "colab": {
     "base_uri": "https://localhost:8080/",
     "height": 487
    },
    "id": "OpThkcmRHc1b",
    "outputId": "0d6a2c91-8c2d-4dfb-ea03-7ef35a91558a"
   },
   "outputs": [
    {
     "data": {
      "image/png": "[encoded data removed]",
      "text/plain": [
       "<Figure size 700x500 with 2 Axes>"
      ]
     },
     "metadata": {},
     "output_type": "display_data"
    }
   ],
   "source": [
    "import seaborn as sns\n",
    "import matplotlib.pyplot as plt\n",
    "\n",
    "cf_matrix = confusion_matrix(y_true,test_value_max)\n",
    "\n",
    "plt.figure(figsize = (7,5))\n",
    "plt.title('Ensemble')\n",
    "x_axis_labels = ['Normal','Covid','Pneumonia']\n",
    "sns.heatmap(cf_matrix, annot=True,  fmt='g', cmap=\"Greens\", xticklabels=x_axis_labels, yticklabels=x_axis_labels)\n",
    "plt.xlabel('Prediction class', color = 'r')\n",
    "plt.ylabel(ylabel='True Class', color=\"r\")\n",
    "plt.savefig('h_ensemble.png')"
   ]
  },
  {
   "cell_type": "code",
   "execution_count": null,
   "metadata": {
    "id": "7Ugy74whdW18"
   },
   "outputs": [],
   "source": []
  }
 ],
 "metadata": {
  "colab": {
   "gpuType": "T4",
   "provenance": []
  },
  "kernelspec": {
   "display_name": "Python 3 (ipykernel)",
   "language": "python",
   "name": "python3"
  },
  "language_info": {
   "codemirror_mode": {
    "name": "ipython",
    "version": 3
   },
   "file_extension": ".py",
   "mimetype": "text/x-python",
   "name": "python",
   "nbconvert_exporter": "python",
   "pygments_lexer": "ipython3",
   "version": "3.8.2"
  }
 },
 "nbformat": 4,
 "nbformat_minor": 1
}
