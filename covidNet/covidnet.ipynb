{
 "cells": [
  {
   "cell_type": "markdown",
   "metadata": {
    "id": "psjvmpQl-TPw"
   },
   "source": [
    "#**CovidNet**"
   ]
  },
  {
   "cell_type": "code",
   "execution_count": 1,
   "metadata": {
    "id": "0-3YNu6UVv64"
   },
   "outputs": [],
   "source": [
    "import tensorflow as tf\n",
    "import numpy as np\n",
    "from tensorflow.keras.optimizers import Adam\n",
    "from sklearn.metrics import  accuracy_score, classification_report, confusion_matrix\n",
    "\n",
    "from dataloader import *\n",
    "from covidnet import covidnet\n",
    "from train import *"
   ]
  },
  {
   "cell_type": "markdown",
   "metadata": {
    "id": "-JUGwCVQOGHk"
   },
   "source": [
    "we prepared a sharelink from google dive:\n",
    "\n",
    "https://drive.google.com/drive/folders/1aw7nqrXkBRZp94Ef04s3xeH-2gQRPb97?usp=sharing\n",
    "\n",
    "Add a shortcut to your own google drive and mount drive on google colab."
   ]
  },
  {
   "cell_type": "code",
   "execution_count": 2,
   "metadata": {
    "colab": {
     "base_uri": "https://localhost:8080/"
    },
    "id": "qU5WVpKKEL-J",
    "outputId": "15b20e9e-6533-4663-cd3f-294a3ab51f01"
   },
   "outputs": [
    {
     "name": "stdout",
     "output_type": "stream",
     "text": [
      "Mounted at /content/drive\n"
     ]
    }
   ],
   "source": [
    "from google.colab import drive\n",
    "drive.mount('/content/drive')"
   ]
  },
  {
   "cell_type": "markdown",
   "metadata": {
    "id": "gfo4MCK_A0Rf"
   },
   "source": [
    "##load data & model"
   ]
  },
  {
   "cell_type": "code",
   "execution_count": 3,
   "metadata": {
    "colab": {
     "base_uri": "https://localhost:8080/"
    },
    "id": "9ZaiW-JzWTqd",
    "outputId": "02c43a47-87a6-4e97-8e58-2c4c395980a1"
   },
   "outputs": [
    {
     "name": "stdout",
     "output_type": "stream",
     "text": [
      "Found 2928 validated image filenames belonging to 3 classes.\n",
      "Found 732 validated image filenames belonging to 3 classes.\n",
      "Found 915 validated image filenames belonging to 3 classes.\n",
      "Found 50 validated image filenames belonging to 3 classes.\n"
     ]
    }
   ],
   "source": [
    "#DIRECTORIES\n",
    "path_metadata = \"/content/drive/MyDrive/dataset/metadata.csv\" ## directory of dataframe of image directories and classes\n",
    "path_pneumonia = \"/content/drive/MyDrive/dataset/Dataset/pneumonia\" ## directory of images of pneumonia classes\n",
    "directory_dataset='/content/drive/MyDrive/dataset/Dataset' ## directory of all classes folders\n",
    "\n",
    "image_size=(224, 224)\n",
    "batch_size = 32\n",
    "\n",
    "## call a function to load datasets\n",
    "train_dataset,validation_dataset,test_dataset, y_true,y_true_oh,train_steps,validation_steps,test_steps,_,_,_ = data_func(\n",
    "    batch_size ,\n",
    "    path_metadata ,\n",
    "    path_pneumonia ,\n",
    "    directory_dataset,\n",
    "    image_size )"
   ]
  },
  {
   "cell_type": "code",
   "execution_count": 4,
   "metadata": {
    "id": "8atWy0z1WXRZ"
   },
   "outputs": [],
   "source": [
    "input_shape = 224, 224, 3 # size and channel of images\n",
    "n_classes = 3 # number of classes\n",
    "\n",
    "# call the model\n",
    "model = covidnet(input_shape,n_classes)"
   ]
  },
  {
   "cell_type": "markdown",
   "metadata": {
    "id": "1NJs2CcqAx9m"
   },
   "source": [
    "##train"
   ]
  },
  {
   "cell_type": "code",
   "execution_count": 5,
   "metadata": {
    "colab": {
     "base_uri": "https://localhost:8080/"
    },
    "id": "haKZOs1QWchH",
    "outputId": "7f77269a-a119-4146-f8bd-5b19bf0c1a55"
   },
   "outputs": [
    {
     "name": "stdout",
     "output_type": "stream",
     "text": [
      "Epoch 1/150\n",
      "91/91 [==============================] - 1680s 18s/step - loss: 0.9495 - accuracy: 0.5124 - val_loss: 0.7252 - val_accuracy: 0.6577 - lr: 2.0000e-04\n",
      "Epoch 2/150\n",
      "91/91 [==============================] - 83s 908ms/step - loss: 0.7874 - accuracy: 0.6564 - val_loss: 0.6514 - val_accuracy: 0.7656 - lr: 2.0000e-04\n",
      "Epoch 3/150\n",
      "91/91 [==============================] - 82s 906ms/step - loss: 0.6956 - accuracy: 0.7048 - val_loss: 0.5879 - val_accuracy: 0.7884 - lr: 2.0000e-04\n",
      "Epoch 4/150\n",
      "91/91 [==============================] - 82s 903ms/step - loss: 0.6222 - accuracy: 0.7459 - val_loss: 0.5188 - val_accuracy: 0.8097 - lr: 2.0000e-04\n",
      "Epoch 5/150\n",
      "91/91 [==============================] - 81s 894ms/step - loss: 0.5827 - accuracy: 0.7655 - val_loss: 0.6119 - val_accuracy: 0.7216 - lr: 2.0000e-04\n",
      "Epoch 6/150\n",
      "91/91 [==============================] - 81s 887ms/step - loss: 0.5714 - accuracy: 0.7728 - val_loss: 0.6467 - val_accuracy: 0.7145 - lr: 2.0000e-04\n",
      "Epoch 7/150\n",
      "91/91 [==============================] - 80s 883ms/step - loss: 0.5274 - accuracy: 0.8042 - val_loss: 0.5663 - val_accuracy: 0.7841 - lr: 2.0000e-04\n",
      "Epoch 8/150\n",
      "91/91 [==============================] - 80s 881ms/step - loss: 0.5063 - accuracy: 0.8025 - val_loss: 0.5282 - val_accuracy: 0.7827 - lr: 2.0000e-04\n",
      "Epoch 9/150\n",
      "91/91 [==============================] - 81s 890ms/step - loss: 0.5096 - accuracy: 0.8049 - val_loss: 0.4558 - val_accuracy: 0.8324 - lr: 2.0000e-04\n",
      "Epoch 10/150\n",
      "91/91 [==============================] - 81s 894ms/step - loss: 0.4904 - accuracy: 0.8146 - val_loss: 0.4521 - val_accuracy: 0.8509 - lr: 2.0000e-04\n",
      "Epoch 11/150\n",
      "91/91 [==============================] - 81s 890ms/step - loss: 0.4835 - accuracy: 0.8201 - val_loss: 0.6949 - val_accuracy: 0.6989 - lr: 2.0000e-04\n",
      "Epoch 12/150\n",
      "91/91 [==============================] - 80s 883ms/step - loss: 0.4443 - accuracy: 0.8305 - val_loss: 0.6033 - val_accuracy: 0.7486 - lr: 2.0000e-04\n",
      "Epoch 13/150\n",
      "91/91 [==============================] - 81s 887ms/step - loss: 0.4457 - accuracy: 0.8239 - val_loss: 0.4474 - val_accuracy: 0.8452 - lr: 2.0000e-04\n",
      "Epoch 14/150\n",
      "91/91 [==============================] - 81s 886ms/step - loss: 0.4651 - accuracy: 0.8208 - val_loss: 0.4428 - val_accuracy: 0.8423 - lr: 2.0000e-04\n",
      "Epoch 15/150\n",
      "91/91 [==============================] - 80s 882ms/step - loss: 0.4399 - accuracy: 0.8301 - val_loss: 0.5977 - val_accuracy: 0.7557 - lr: 2.0000e-04\n",
      "Epoch 16/150\n",
      "91/91 [==============================] - 81s 893ms/step - loss: 0.4230 - accuracy: 0.8446 - val_loss: 0.3500 - val_accuracy: 0.8849 - lr: 1.8000e-04\n",
      "Epoch 17/150\n",
      "91/91 [==============================] - 80s 874ms/step - loss: 0.4044 - accuracy: 0.8522 - val_loss: 0.3709 - val_accuracy: 0.8793 - lr: 1.8000e-04\n",
      "Epoch 18/150\n",
      "91/91 [==============================] - 80s 878ms/step - loss: 0.3723 - accuracy: 0.8591 - val_loss: 0.3557 - val_accuracy: 0.8807 - lr: 1.8000e-04\n",
      "Epoch 19/150\n",
      "91/91 [==============================] - 80s 880ms/step - loss: 0.3886 - accuracy: 0.8564 - val_loss: 0.3825 - val_accuracy: 0.8665 - lr: 1.8000e-04\n",
      "Epoch 20/150\n",
      "91/91 [==============================] - 80s 877ms/step - loss: 0.3935 - accuracy: 0.8491 - val_loss: 0.5753 - val_accuracy: 0.7670 - lr: 1.8000e-04\n",
      "Epoch 21/150\n",
      "91/91 [==============================] - 80s 877ms/step - loss: 0.3652 - accuracy: 0.8695 - val_loss: 0.5647 - val_accuracy: 0.7699 - lr: 1.8000e-04\n",
      "Epoch 22/150\n",
      "91/91 [==============================] - 80s 876ms/step - loss: 0.3573 - accuracy: 0.8681 - val_loss: 0.3689 - val_accuracy: 0.8707 - lr: 1.6200e-04\n",
      "Epoch 23/150\n",
      "91/91 [==============================] - 79s 865ms/step - loss: 0.3514 - accuracy: 0.8760 - val_loss: 0.3563 - val_accuracy: 0.8807 - lr: 1.6200e-04\n",
      "Epoch 24/150\n",
      "91/91 [==============================] - 80s 880ms/step - loss: 0.3802 - accuracy: 0.8633 - val_loss: 0.3995 - val_accuracy: 0.8509 - lr: 1.6200e-04\n",
      "Epoch 25/150\n",
      "91/91 [==============================] - 80s 880ms/step - loss: 0.3603 - accuracy: 0.8674 - val_loss: 0.7273 - val_accuracy: 0.7244 - lr: 1.6200e-04\n",
      "Epoch 26/150\n",
      "91/91 [==============================] - 80s 882ms/step - loss: 0.3677 - accuracy: 0.8602 - val_loss: 0.4488 - val_accuracy: 0.8281 - lr: 1.6200e-04\n",
      "Epoch 27/150\n",
      "91/91 [==============================] - 80s 878ms/step - loss: 0.3378 - accuracy: 0.8771 - val_loss: 0.4560 - val_accuracy: 0.8381 - lr: 1.4580e-04\n",
      "Epoch 28/150\n",
      "91/91 [==============================] - 81s 888ms/step - loss: 0.3539 - accuracy: 0.8709 - val_loss: 0.6655 - val_accuracy: 0.7500 - lr: 1.4580e-04\n",
      "Epoch 29/150\n",
      "91/91 [==============================] - 80s 879ms/step - loss: 0.3384 - accuracy: 0.8760 - val_loss: 0.3843 - val_accuracy: 0.8523 - lr: 1.4580e-04\n",
      "Epoch 30/150\n",
      "91/91 [==============================] - 79s 869ms/step - loss: 0.3409 - accuracy: 0.8740 - val_loss: 0.3878 - val_accuracy: 0.8523 - lr: 1.4580e-04\n",
      "Epoch 31/150\n",
      "91/91 [==============================] - 80s 881ms/step - loss: 0.3176 - accuracy: 0.8860 - val_loss: 0.3542 - val_accuracy: 0.8750 - lr: 1.4580e-04\n",
      "Epoch 32/150\n",
      "91/91 [==============================] - 80s 879ms/step - loss: 0.3233 - accuracy: 0.8823 - val_loss: 0.4253 - val_accuracy: 0.8395 - lr: 1.3122e-04\n",
      "Epoch 33/150\n",
      "91/91 [==============================] - 80s 882ms/step - loss: 0.3080 - accuracy: 0.8933 - val_loss: 0.3099 - val_accuracy: 0.8977 - lr: 1.3122e-04\n",
      "Epoch 34/150\n",
      "91/91 [==============================] - 80s 882ms/step - loss: 0.3118 - accuracy: 0.8871 - val_loss: 0.3058 - val_accuracy: 0.8920 - lr: 1.3122e-04\n",
      "Epoch 35/150\n",
      "91/91 [==============================] - 79s 872ms/step - loss: 0.2945 - accuracy: 0.8940 - val_loss: 0.3383 - val_accuracy: 0.8821 - lr: 1.3122e-04\n",
      "Epoch 36/150\n",
      "91/91 [==============================] - 80s 876ms/step - loss: 0.2910 - accuracy: 0.8957 - val_loss: 0.3441 - val_accuracy: 0.8835 - lr: 1.3122e-04\n",
      "Epoch 37/150\n",
      "91/91 [==============================] - 80s 879ms/step - loss: 0.3078 - accuracy: 0.8954 - val_loss: 0.4476 - val_accuracy: 0.8267 - lr: 1.3122e-04\n",
      "Epoch 38/150\n",
      "91/91 [==============================] - 80s 875ms/step - loss: 0.3062 - accuracy: 0.8947 - val_loss: 0.4310 - val_accuracy: 0.8324 - lr: 1.3122e-04\n",
      "Epoch 39/150\n",
      "91/91 [==============================] - 80s 878ms/step - loss: 0.2912 - accuracy: 0.8947 - val_loss: 0.4201 - val_accuracy: 0.8494 - lr: 1.1810e-04\n",
      "Epoch 40/150\n",
      "91/91 [==============================] - 80s 877ms/step - loss: 0.2919 - accuracy: 0.8992 - val_loss: 0.3832 - val_accuracy: 0.8693 - lr: 1.1810e-04\n",
      "Epoch 41/150\n",
      "91/91 [==============================] - 79s 873ms/step - loss: 0.2957 - accuracy: 0.8954 - val_loss: 0.4951 - val_accuracy: 0.8125 - lr: 1.1810e-04\n",
      "Epoch 42/150\n",
      "91/91 [==============================] - 80s 877ms/step - loss: 0.2903 - accuracy: 0.8971 - val_loss: 0.3228 - val_accuracy: 0.8892 - lr: 1.1810e-04\n",
      "Epoch 43/150\n",
      "91/91 [==============================] - 80s 880ms/step - loss: 0.2845 - accuracy: 0.8988 - val_loss: 0.2778 - val_accuracy: 0.9148 - lr: 1.1810e-04\n",
      "Epoch 44/150\n",
      "91/91 [==============================] - 80s 876ms/step - loss: 0.2933 - accuracy: 0.8957 - val_loss: 0.4034 - val_accuracy: 0.8409 - lr: 1.1810e-04\n",
      "Epoch 45/150\n",
      "91/91 [==============================] - 80s 878ms/step - loss: 0.2630 - accuracy: 0.9078 - val_loss: 0.3905 - val_accuracy: 0.8523 - lr: 1.1810e-04\n",
      "Epoch 46/150\n",
      "91/91 [==============================] - 79s 869ms/step - loss: 0.2627 - accuracy: 0.9088 - val_loss: 0.3080 - val_accuracy: 0.8963 - lr: 1.1810e-04\n",
      "Epoch 47/150\n",
      "91/91 [==============================] - 80s 875ms/step - loss: 0.2783 - accuracy: 0.9054 - val_loss: 0.2983 - val_accuracy: 0.9006 - lr: 1.1810e-04\n",
      "Epoch 48/150\n",
      "91/91 [==============================] - 80s 877ms/step - loss: 0.2660 - accuracy: 0.9109 - val_loss: 0.3165 - val_accuracy: 0.8807 - lr: 1.1810e-04\n",
      "Epoch 49/150\n",
      "91/91 [==============================] - 79s 868ms/step - loss: 0.2698 - accuracy: 0.9078 - val_loss: 0.3824 - val_accuracy: 0.8480 - lr: 1.0629e-04\n",
      "Epoch 50/150\n",
      "91/91 [==============================] - 79s 866ms/step - loss: 0.2611 - accuracy: 0.9116 - val_loss: 0.3223 - val_accuracy: 0.8835 - lr: 1.0629e-04\n",
      "Epoch 51/150\n",
      "91/91 [==============================] - 80s 879ms/step - loss: 0.2652 - accuracy: 0.9085 - val_loss: 0.3141 - val_accuracy: 0.8849 - lr: 1.0629e-04\n",
      "Epoch 52/150\n",
      "91/91 [==============================] - 80s 874ms/step - loss: 0.2496 - accuracy: 0.9144 - val_loss: 0.2975 - val_accuracy: 0.8949 - lr: 1.0629e-04\n",
      "Epoch 53/150\n",
      "91/91 [==============================] - 80s 874ms/step - loss: 0.2706 - accuracy: 0.9099 - val_loss: 0.2665 - val_accuracy: 0.9119 - lr: 1.0629e-04\n",
      "Epoch 54/150\n",
      "91/91 [==============================] - 79s 872ms/step - loss: 0.2502 - accuracy: 0.9123 - val_loss: 0.3228 - val_accuracy: 0.8849 - lr: 9.5659e-05\n",
      "Epoch 55/150\n",
      "91/91 [==============================] - 79s 872ms/step - loss: 0.2554 - accuracy: 0.9137 - val_loss: 0.3043 - val_accuracy: 0.8935 - lr: 9.5659e-05\n",
      "Epoch 56/150\n",
      "91/91 [==============================] - 79s 872ms/step - loss: 0.2612 - accuracy: 0.9081 - val_loss: 0.3613 - val_accuracy: 0.8707 - lr: 9.5659e-05\n",
      "Epoch 57/150\n",
      "91/91 [==============================] - 80s 875ms/step - loss: 0.2372 - accuracy: 0.9189 - val_loss: 0.3144 - val_accuracy: 0.8835 - lr: 9.5659e-05\n",
      "Epoch 58/150\n",
      "91/91 [==============================] - 79s 866ms/step - loss: 0.2396 - accuracy: 0.9220 - val_loss: 0.2749 - val_accuracy: 0.9077 - lr: 9.5659e-05\n",
      "Epoch 59/150\n",
      "91/91 [==============================] - 79s 872ms/step - loss: 0.2428 - accuracy: 0.9141 - val_loss: 0.3244 - val_accuracy: 0.8821 - lr: 8.6093e-05\n",
      "Epoch 60/150\n",
      "91/91 [==============================] - 80s 874ms/step - loss: 0.2459 - accuracy: 0.9144 - val_loss: 0.3317 - val_accuracy: 0.8736 - lr: 8.6093e-05\n",
      "Epoch 61/150\n",
      "91/91 [==============================] - 79s 870ms/step - loss: 0.2316 - accuracy: 0.9199 - val_loss: 0.2953 - val_accuracy: 0.8991 - lr: 8.6093e-05\n",
      "Epoch 62/150\n",
      "91/91 [==============================] - 79s 870ms/step - loss: 0.2283 - accuracy: 0.9233 - val_loss: 0.3292 - val_accuracy: 0.8849 - lr: 8.6093e-05\n",
      "Epoch 63/150\n",
      "91/91 [==============================] - 80s 874ms/step - loss: 0.2441 - accuracy: 0.9133 - val_loss: 0.2646 - val_accuracy: 0.9048 - lr: 8.6093e-05\n",
      "Epoch 64/150\n",
      "91/91 [==============================] - 79s 871ms/step - loss: 0.2337 - accuracy: 0.9230 - val_loss: 0.3712 - val_accuracy: 0.8778 - lr: 7.7484e-05\n",
      "Epoch 65/150\n",
      "91/91 [==============================] - 79s 869ms/step - loss: 0.2261 - accuracy: 0.9227 - val_loss: 0.3760 - val_accuracy: 0.8693 - lr: 7.7484e-05\n",
      "Epoch 66/150\n",
      "91/91 [==============================] - 79s 872ms/step - loss: 0.2325 - accuracy: 0.9251 - val_loss: 0.2758 - val_accuracy: 0.9048 - lr: 7.7484e-05\n",
      "Epoch 67/150\n",
      "91/91 [==============================] - 79s 869ms/step - loss: 0.2271 - accuracy: 0.9240 - val_loss: 0.3284 - val_accuracy: 0.8963 - lr: 7.7484e-05\n",
      "Epoch 68/150\n",
      "91/91 [==============================] - 80s 874ms/step - loss: 0.2295 - accuracy: 0.9223 - val_loss: 0.2652 - val_accuracy: 0.8991 - lr: 7.7484e-05\n",
      "Epoch 69/150\n",
      "91/91 [==============================] - 79s 869ms/step - loss: 0.2329 - accuracy: 0.9220 - val_loss: 0.2936 - val_accuracy: 0.8991 - lr: 6.9736e-05\n",
      "Epoch 70/150\n",
      "91/91 [==============================] - 79s 868ms/step - loss: 0.2275 - accuracy: 0.9285 - val_loss: 0.2987 - val_accuracy: 0.9020 - lr: 6.9736e-05\n",
      "Epoch 71/150\n",
      "91/91 [==============================] - 80s 872ms/step - loss: 0.2243 - accuracy: 0.9240 - val_loss: 0.2917 - val_accuracy: 0.9006 - lr: 6.9736e-05\n",
      "Epoch 72/150\n",
      "91/91 [==============================] - 79s 864ms/step - loss: 0.2250 - accuracy: 0.9261 - val_loss: 0.3799 - val_accuracy: 0.8636 - lr: 6.9736e-05\n",
      "Epoch 73/150\n",
      "91/91 [==============================] - 79s 866ms/step - loss: 0.2100 - accuracy: 0.9296 - val_loss: 0.4045 - val_accuracy: 0.8665 - lr: 6.9736e-05\n",
      "Epoch 74/150\n",
      "91/91 [==============================] - 79s 874ms/step - loss: 0.2292 - accuracy: 0.9247 - val_loss: 0.3073 - val_accuracy: 0.8949 - lr: 6.2762e-05\n",
      "Epoch 75/150\n",
      "91/91 [==============================] - 79s 868ms/step - loss: 0.2121 - accuracy: 0.9254 - val_loss: 0.3409 - val_accuracy: 0.8807 - lr: 6.2762e-05\n",
      "Epoch 76/150\n",
      "91/91 [==============================] - 79s 872ms/step - loss: 0.2125 - accuracy: 0.9261 - val_loss: 0.4392 - val_accuracy: 0.8466 - lr: 6.2762e-05\n",
      "Epoch 77/150\n",
      "91/91 [==============================] - 80s 874ms/step - loss: 0.2180 - accuracy: 0.9244 - val_loss: 0.2590 - val_accuracy: 0.9077 - lr: 6.2762e-05\n",
      "Epoch 78/150\n",
      "91/91 [==============================] - 79s 869ms/step - loss: 0.2111 - accuracy: 0.9313 - val_loss: 0.2446 - val_accuracy: 0.9091 - lr: 6.2762e-05\n",
      "Epoch 79/150\n",
      "91/91 [==============================] - 79s 870ms/step - loss: 0.2122 - accuracy: 0.9278 - val_loss: 0.2591 - val_accuracy: 0.9062 - lr: 5.6486e-05\n",
      "Epoch 80/150\n",
      "91/91 [==============================] - 79s 867ms/step - loss: 0.2057 - accuracy: 0.9344 - val_loss: 0.2662 - val_accuracy: 0.9020 - lr: 5.6486e-05\n",
      "Epoch 81/150\n",
      "91/91 [==============================] - 79s 868ms/step - loss: 0.2076 - accuracy: 0.9306 - val_loss: 0.2981 - val_accuracy: 0.9006 - lr: 5.6486e-05\n",
      "Epoch 82/150\n",
      "91/91 [==============================] - 79s 867ms/step - loss: 0.1992 - accuracy: 0.9330 - val_loss: 0.3491 - val_accuracy: 0.8793 - lr: 5.6486e-05\n",
      "Epoch 83/150\n",
      "91/91 [==============================] - 79s 864ms/step - loss: 0.2187 - accuracy: 0.9292 - val_loss: 0.3483 - val_accuracy: 0.8722 - lr: 5.6486e-05\n",
      "Epoch 84/150\n",
      "91/91 [==============================] - 80s 883ms/step - loss: 0.2104 - accuracy: 0.9275 - val_loss: 0.2394 - val_accuracy: 0.9162 - lr: 5.0837e-05\n",
      "Epoch 85/150\n",
      "91/91 [==============================] - 79s 865ms/step - loss: 0.2092 - accuracy: 0.9254 - val_loss: 0.2765 - val_accuracy: 0.8920 - lr: 5.0837e-05\n",
      "Epoch 86/150\n",
      "91/91 [==============================] - 79s 871ms/step - loss: 0.2065 - accuracy: 0.9323 - val_loss: 0.3334 - val_accuracy: 0.8793 - lr: 5.0837e-05\n",
      "Epoch 87/150\n",
      "91/91 [==============================] - 79s 874ms/step - loss: 0.2003 - accuracy: 0.9306 - val_loss: 0.3199 - val_accuracy: 0.8878 - lr: 5.0837e-05\n",
      "Epoch 88/150\n",
      "91/91 [==============================] - 79s 863ms/step - loss: 0.1941 - accuracy: 0.9368 - val_loss: 0.3338 - val_accuracy: 0.8807 - lr: 5.0837e-05\n",
      "Epoch 89/150\n",
      "91/91 [==============================] - 79s 868ms/step - loss: 0.1950 - accuracy: 0.9334 - val_loss: 0.2554 - val_accuracy: 0.9162 - lr: 5.0837e-05\n",
      "Epoch 90/150\n",
      "91/91 [==============================] - 80s 874ms/step - loss: 0.2156 - accuracy: 0.9265 - val_loss: 0.3125 - val_accuracy: 0.8864 - lr: 4.5754e-05\n",
      "Epoch 91/150\n",
      "91/91 [==============================] - 79s 866ms/step - loss: 0.2059 - accuracy: 0.9323 - val_loss: 0.3094 - val_accuracy: 0.8807 - lr: 4.5754e-05\n",
      "Epoch 92/150\n",
      "91/91 [==============================] - 79s 865ms/step - loss: 0.1979 - accuracy: 0.9323 - val_loss: 0.3836 - val_accuracy: 0.8679 - lr: 4.5754e-05\n",
      "Epoch 93/150\n",
      "91/91 [==============================] - 79s 868ms/step - loss: 0.2011 - accuracy: 0.9330 - val_loss: 0.3687 - val_accuracy: 0.8693 - lr: 4.5754e-05\n",
      "Epoch 94/150\n",
      "91/91 [==============================] - 80s 884ms/step - loss: 0.1995 - accuracy: 0.9320 - val_loss: 0.2987 - val_accuracy: 0.8864 - lr: 4.5754e-05\n",
      "Epoch 95/150\n",
      "91/91 [==============================] - 79s 870ms/step - loss: 0.1916 - accuracy: 0.9347 - val_loss: 0.2162 - val_accuracy: 0.9134 - lr: 4.1178e-05\n",
      "Epoch 96/150\n",
      "91/91 [==============================] - 80s 876ms/step - loss: 0.1914 - accuracy: 0.9358 - val_loss: 0.2265 - val_accuracy: 0.9190 - lr: 4.1178e-05\n",
      "Epoch 97/150\n",
      "91/91 [==============================] - 79s 867ms/step - loss: 0.1922 - accuracy: 0.9358 - val_loss: 0.3120 - val_accuracy: 0.8864 - lr: 4.1178e-05\n",
      "Epoch 98/150\n",
      "91/91 [==============================] - 80s 881ms/step - loss: 0.1858 - accuracy: 0.9365 - val_loss: 0.2656 - val_accuracy: 0.9062 - lr: 4.1178e-05\n",
      "Epoch 99/150\n",
      "91/91 [==============================] - 80s 881ms/step - loss: 0.1889 - accuracy: 0.9354 - val_loss: 0.2469 - val_accuracy: 0.9077 - lr: 4.1178e-05\n",
      "Epoch 100/150\n",
      "91/91 [==============================] - 80s 873ms/step - loss: 0.1939 - accuracy: 0.9354 - val_loss: 0.2544 - val_accuracy: 0.9091 - lr: 4.1178e-05\n",
      "Epoch 101/150\n",
      "91/91 [==============================] - 79s 872ms/step - loss: 0.2027 - accuracy: 0.9344 - val_loss: 0.3108 - val_accuracy: 0.8935 - lr: 4.1178e-05\n",
      "Epoch 102/150\n",
      "91/91 [==============================] - 79s 872ms/step - loss: 0.1925 - accuracy: 0.9310 - val_loss: 0.2957 - val_accuracy: 0.8892 - lr: 3.7060e-05\n",
      "Epoch 103/150\n",
      "91/91 [==============================] - 80s 877ms/step - loss: 0.1964 - accuracy: 0.9299 - val_loss: 0.3134 - val_accuracy: 0.8878 - lr: 3.7060e-05\n",
      "Epoch 104/150\n",
      "91/91 [==============================] - 80s 876ms/step - loss: 0.1814 - accuracy: 0.9403 - val_loss: 0.2609 - val_accuracy: 0.9020 - lr: 3.7060e-05\n",
      "Epoch 105/150\n",
      "91/91 [==============================] - 79s 869ms/step - loss: 0.1875 - accuracy: 0.9340 - val_loss: 0.2931 - val_accuracy: 0.8878 - lr: 3.7060e-05\n",
      "Epoch 106/150\n",
      "91/91 [==============================] - 79s 870ms/step - loss: 0.1993 - accuracy: 0.9320 - val_loss: 0.2362 - val_accuracy: 0.9134 - lr: 3.7060e-05\n",
      "Epoch 107/150\n",
      "91/91 [==============================] - 80s 874ms/step - loss: 0.1823 - accuracy: 0.9378 - val_loss: 0.2323 - val_accuracy: 0.9205 - lr: 3.3354e-05\n",
      "Epoch 108/150\n",
      "91/91 [==============================] - 79s 868ms/step - loss: 0.1841 - accuracy: 0.9378 - val_loss: 0.3243 - val_accuracy: 0.8849 - lr: 3.3354e-05\n",
      "Epoch 109/150\n",
      "91/91 [==============================] - 79s 867ms/step - loss: 0.1942 - accuracy: 0.9334 - val_loss: 0.3695 - val_accuracy: 0.8665 - lr: 3.3354e-05\n",
      "Epoch 110/150\n",
      "91/91 [==============================] - 79s 873ms/step - loss: 0.1933 - accuracy: 0.9302 - val_loss: 0.2471 - val_accuracy: 0.9062 - lr: 3.3354e-05\n",
      "Epoch 111/150\n",
      "91/91 [==============================] - 79s 870ms/step - loss: 0.1858 - accuracy: 0.9385 - val_loss: 0.2659 - val_accuracy: 0.9020 - lr: 3.3354e-05\n",
      "Epoch 112/150\n",
      "91/91 [==============================] - 78s 861ms/step - loss: 0.1834 - accuracy: 0.9347 - val_loss: 0.3630 - val_accuracy: 0.8679 - lr: 3.3354e-05\n",
      "Epoch 113/150\n",
      "91/91 [==============================] - 79s 872ms/step - loss: 0.1822 - accuracy: 0.9392 - val_loss: 0.2284 - val_accuracy: 0.9176 - lr: 3.0019e-05\n",
      "Epoch 114/150\n",
      "91/91 [==============================] - 79s 867ms/step - loss: 0.1865 - accuracy: 0.9372 - val_loss: 0.3669 - val_accuracy: 0.8722 - lr: 3.0019e-05\n",
      "Epoch 115/150\n",
      "91/91 [==============================] - 80s 877ms/step - loss: 0.1814 - accuracy: 0.9385 - val_loss: 0.2543 - val_accuracy: 0.9062 - lr: 3.0019e-05\n",
      "Epoch 116/150\n",
      "91/91 [==============================] - 79s 869ms/step - loss: 0.1812 - accuracy: 0.9413 - val_loss: 0.2740 - val_accuracy: 0.9006 - lr: 3.0019e-05\n",
      "Epoch 117/150\n",
      "91/91 [==============================] - 79s 872ms/step - loss: 0.1831 - accuracy: 0.9372 - val_loss: 0.2978 - val_accuracy: 0.9006 - lr: 3.0019e-05\n",
      "Epoch 118/150\n",
      "91/91 [==============================] - 82s 894ms/step - loss: 0.1807 - accuracy: 0.9420 - val_loss: 0.2791 - val_accuracy: 0.9048 - lr: 2.7017e-05\n",
      "Epoch 119/150\n",
      "91/91 [==============================] - 79s 869ms/step - loss: 0.1781 - accuracy: 0.9403 - val_loss: 0.2628 - val_accuracy: 0.9048 - lr: 2.7017e-05\n",
      "Epoch 120/150\n",
      "91/91 [==============================] - 79s 870ms/step - loss: 0.1739 - accuracy: 0.9416 - val_loss: 0.2356 - val_accuracy: 0.9119 - lr: 2.7017e-05\n",
      "Epoch 121/150\n",
      "91/91 [==============================] - 80s 871ms/step - loss: 0.1706 - accuracy: 0.9413 - val_loss: 0.2359 - val_accuracy: 0.9134 - lr: 2.7017e-05\n",
      "Epoch 122/150\n",
      "91/91 [==============================] - 79s 866ms/step - loss: 0.1796 - accuracy: 0.9396 - val_loss: 0.2412 - val_accuracy: 0.9119 - lr: 2.7017e-05\n",
      "Epoch 123/150\n",
      "91/91 [==============================] - 79s 870ms/step - loss: 0.1816 - accuracy: 0.9392 - val_loss: 0.3552 - val_accuracy: 0.8807 - lr: 2.4315e-05\n",
      "Epoch 124/150\n",
      "91/91 [==============================] - 79s 865ms/step - loss: 0.1775 - accuracy: 0.9375 - val_loss: 0.2485 - val_accuracy: 0.9062 - lr: 2.4315e-05\n",
      "Epoch 125/150\n",
      "91/91 [==============================] - 79s 869ms/step - loss: 0.1830 - accuracy: 0.9337 - val_loss: 0.2653 - val_accuracy: 0.9006 - lr: 2.4315e-05\n",
      "Epoch 126/150\n",
      "91/91 [==============================] - 79s 870ms/step - loss: 0.1703 - accuracy: 0.9444 - val_loss: 0.2540 - val_accuracy: 0.9034 - lr: 2.4315e-05\n",
      "Epoch 127/150\n",
      "91/91 [==============================] - 79s 870ms/step - loss: 0.1760 - accuracy: 0.9406 - val_loss: 0.2926 - val_accuracy: 0.8949 - lr: 2.4315e-05\n",
      "Epoch 128/150\n",
      "91/91 [==============================] - 79s 869ms/step - loss: 0.1777 - accuracy: 0.9410 - val_loss: 0.3399 - val_accuracy: 0.8693 - lr: 2.1884e-05\n",
      "Epoch 129/150\n",
      "91/91 [==============================] - 79s 867ms/step - loss: 0.1657 - accuracy: 0.9461 - val_loss: 0.3464 - val_accuracy: 0.8750 - lr: 2.1884e-05\n",
      "Epoch 130/150\n",
      "91/91 [==============================] - 80s 877ms/step - loss: 0.1760 - accuracy: 0.9396 - val_loss: 0.2669 - val_accuracy: 0.9034 - lr: 2.1884e-05\n",
      "Epoch 131/150\n",
      "91/91 [==============================] - 80s 882ms/step - loss: 0.1743 - accuracy: 0.9396 - val_loss: 0.2317 - val_accuracy: 0.9148 - lr: 2.1884e-05\n",
      "Epoch 132/150\n",
      "91/91 [==============================] - 79s 866ms/step - loss: 0.1699 - accuracy: 0.9434 - val_loss: 0.3098 - val_accuracy: 0.8949 - lr: 2.1884e-05\n",
      "Epoch 133/150\n",
      "91/91 [==============================] - 79s 873ms/step - loss: 0.1713 - accuracy: 0.9420 - val_loss: 0.2204 - val_accuracy: 0.9205 - lr: 1.9695e-05\n",
      "Epoch 134/150\n",
      "91/91 [==============================] - 79s 865ms/step - loss: 0.1715 - accuracy: 0.9396 - val_loss: 0.2611 - val_accuracy: 0.9048 - lr: 1.9695e-05\n",
      "Epoch 135/150\n",
      "91/91 [==============================] - 80s 879ms/step - loss: 0.1697 - accuracy: 0.9399 - val_loss: 0.2217 - val_accuracy: 0.9233 - lr: 1.9695e-05\n",
      "Epoch 136/150\n",
      "91/91 [==============================] - 79s 873ms/step - loss: 0.1784 - accuracy: 0.9399 - val_loss: 0.2436 - val_accuracy: 0.9091 - lr: 1.9695e-05\n",
      "Epoch 137/150\n",
      "91/91 [==============================] - 79s 871ms/step - loss: 0.1716 - accuracy: 0.9403 - val_loss: 0.2696 - val_accuracy: 0.9020 - lr: 1.9695e-05\n",
      "Epoch 138/150\n",
      "91/91 [==============================] - 79s 866ms/step - loss: 0.1775 - accuracy: 0.9378 - val_loss: 0.2344 - val_accuracy: 0.9134 - lr: 1.9695e-05\n",
      "Epoch 139/150\n",
      "91/91 [==============================] - 79s 865ms/step - loss: 0.1696 - accuracy: 0.9461 - val_loss: 0.3620 - val_accuracy: 0.8849 - lr: 1.9695e-05\n",
      "Epoch 140/150\n",
      "91/91 [==============================] - 79s 869ms/step - loss: 0.1686 - accuracy: 0.9420 - val_loss: 0.2693 - val_accuracy: 0.8991 - lr: 1.9695e-05\n",
      "Epoch 141/150\n",
      "91/91 [==============================] - 79s 872ms/step - loss: 0.1746 - accuracy: 0.9416 - val_loss: 0.2721 - val_accuracy: 0.8977 - lr: 1.7726e-05\n",
      "Epoch 142/150\n",
      "91/91 [==============================] - 79s 869ms/step - loss: 0.1727 - accuracy: 0.9420 - val_loss: 0.3339 - val_accuracy: 0.8793 - lr: 1.7726e-05\n",
      "Epoch 143/150\n",
      "91/91 [==============================] - 79s 868ms/step - loss: 0.1740 - accuracy: 0.9410 - val_loss: 0.2368 - val_accuracy: 0.9119 - lr: 1.7726e-05\n",
      "Epoch 144/150\n",
      "91/91 [==============================] - 79s 873ms/step - loss: 0.1684 - accuracy: 0.9430 - val_loss: 0.2451 - val_accuracy: 0.9105 - lr: 1.7726e-05\n",
      "Epoch 145/150\n",
      "91/91 [==============================] - 79s 868ms/step - loss: 0.1660 - accuracy: 0.9437 - val_loss: 0.2426 - val_accuracy: 0.9091 - lr: 1.7726e-05\n",
      "Epoch 146/150\n",
      "91/91 [==============================] - 80s 875ms/step - loss: 0.1715 - accuracy: 0.9416 - val_loss: 0.3174 - val_accuracy: 0.8906 - lr: 1.5953e-05\n",
      "Epoch 147/150\n",
      "91/91 [==============================] - 79s 872ms/step - loss: 0.1672 - accuracy: 0.9413 - val_loss: 0.2884 - val_accuracy: 0.8977 - lr: 1.5953e-05\n",
      "Epoch 148/150\n",
      "91/91 [==============================] - 79s 864ms/step - loss: 0.1765 - accuracy: 0.9399 - val_loss: 0.2417 - val_accuracy: 0.9148 - lr: 1.5953e-05\n",
      "Epoch 149/150\n",
      "91/91 [==============================] - 79s 869ms/step - loss: 0.1699 - accuracy: 0.9410 - val_loss: 0.2591 - val_accuracy: 0.9091 - lr: 1.5953e-05\n",
      "Epoch 150/150\n",
      "91/91 [==============================] - 79s 872ms/step - loss: 0.1720 - accuracy: 0.9427 - val_loss: 0.3359 - val_accuracy: 0.8849 - lr: 1.5953e-05\n",
      "Total run time = 226.71 min\n"
     ]
    }
   ],
   "source": [
    "checkpoint_filepath =  '/content/covid'\n",
    "opt = Adam(learning_rate = 0.0002)\n",
    "\n",
    "from time import time\n",
    "start = time()\n",
    "\n",
    "with tf.device('/gpu:0'):\n",
    "  history_covidnet,model2 = train(train_dataset, model,'covidnet',\n",
    "           train_steps,\n",
    "           validation_dataset,\n",
    "           validation_steps,\n",
    "           checkpoint_filepath,\n",
    "           epoch=150,\n",
    "           opt = opt)\n",
    "\n",
    "print('Total run time = {:.2f} min'.format((time()-start)/60))"
   ]
  },
  {
   "cell_type": "markdown",
   "metadata": {
    "id": "w67iXX3xAtBu"
   },
   "source": [
    "### model summary"
   ]
  },
  {
   "cell_type": "code",
   "execution_count": 6,
   "metadata": {
    "colab": {
     "base_uri": "https://localhost:8080/"
    },
    "id": "o6WxGxInApQb",
    "outputId": "8d871431-1ef5-4ef4-dcb9-06310388ae42"
   },
   "outputs": [
    {
     "name": "stdout",
     "output_type": "stream",
     "text": [
      "Model: \"model\"\n",
      "__________________________________________________________________________________________________\n",
      " Layer (type)                   Output Shape         Param #     Connected to                     \n",
      "==================================================================================================\n",
      " input_1 (InputLayer)           [(None, 224, 224, 3  0           []                               \n",
      "                                )]                                                                \n",
      "                                                                                                  \n",
      " conv2d (Conv2D)                (None, 112, 112, 48  7104        ['input_1[0][0]']                \n",
      "                                )                                                                 \n",
      "                                                                                                  \n",
      " max_pooling2d (MaxPooling2D)   (None, 56, 56, 48)   0           ['conv2d[0][0]']                 \n",
      "                                                                                                  \n",
      " conv2d_2 (Conv2D)              (None, 56, 56, 48)   2352        ['max_pooling2d[0][0]']          \n",
      "                                                                                                  \n",
      " conv2d_3 (Conv2D)              (None, 56, 56, 48)   2352        ['conv2d_2[0][0]']               \n",
      "                                                                                                  \n",
      " depthwise_conv2d (DepthwiseCon  (None, 56, 56, 48)  480         ['conv2d_3[0][0]']               \n",
      " v2D)                                                                                             \n",
      "                                                                                                  \n",
      " conv2d_4 (Conv2D)              (None, 56, 56, 48)   2352        ['depthwise_conv2d[0][0]']       \n",
      "                                                                                                  \n",
      " conv2d_5 (Conv2D)              (None, 56, 56, 48)   2352        ['conv2d_4[0][0]']               \n",
      "                                                                                                  \n",
      " conv2d_1 (Conv2D)              (None, 56, 56, 48)   2352        ['max_pooling2d[0][0]']          \n",
      "                                                                                                  \n",
      " add (Add)                      (None, 56, 56, 48)   0           ['conv2d_5[0][0]',               \n",
      "                                                                  'conv2d_1[0][0]']               \n",
      "                                                                                                  \n",
      " conv2d_6 (Conv2D)              (None, 56, 56, 48)   2352        ['add[0][0]']                    \n",
      "                                                                                                  \n",
      " conv2d_7 (Conv2D)              (None, 56, 56, 48)   2352        ['conv2d_6[0][0]']               \n",
      "                                                                                                  \n",
      " depthwise_conv2d_1 (DepthwiseC  (None, 56, 56, 48)  480         ['conv2d_7[0][0]']               \n",
      " onv2D)                                                                                           \n",
      "                                                                                                  \n",
      " conv2d_8 (Conv2D)              (None, 56, 56, 48)   2352        ['depthwise_conv2d_1[0][0]']     \n",
      "                                                                                                  \n",
      " conv2d_9 (Conv2D)              (None, 56, 56, 48)   2352        ['conv2d_8[0][0]']               \n",
      "                                                                                                  \n",
      " add_1 (Add)                    (None, 56, 56, 48)   0           ['conv2d_5[0][0]',               \n",
      "                                                                  'conv2d_9[0][0]',               \n",
      "                                                                  'conv2d_1[0][0]']               \n",
      "                                                                                                  \n",
      " conv2d_10 (Conv2D)             (None, 56, 56, 48)   2352        ['add_1[0][0]']                  \n",
      "                                                                                                  \n",
      " conv2d_11 (Conv2D)             (None, 56, 56, 48)   2352        ['conv2d_10[0][0]']              \n",
      "                                                                                                  \n",
      " depthwise_conv2d_2 (DepthwiseC  (None, 56, 56, 48)  480         ['conv2d_11[0][0]']              \n",
      " onv2D)                                                                                           \n",
      "                                                                                                  \n",
      " conv2d_12 (Conv2D)             (None, 56, 56, 48)   2352        ['depthwise_conv2d_2[0][0]']     \n",
      "                                                                                                  \n",
      " conv2d_13 (Conv2D)             (None, 56, 56, 48)   2352        ['conv2d_12[0][0]']              \n",
      "                                                                                                  \n",
      " add_3 (Add)                    (None, 56, 56, 48)   0           ['conv2d_5[0][0]',               \n",
      "                                                                  'conv2d_9[0][0]',               \n",
      "                                                                  'conv2d_13[0][0]',              \n",
      "                                                                  'conv2d_1[0][0]']               \n",
      "                                                                                                  \n",
      " conv2d_15 (Conv2D)             (None, 56, 56, 96)   4704        ['add_3[0][0]']                  \n",
      "                                                                                                  \n",
      " conv2d_16 (Conv2D)             (None, 56, 56, 96)   9312        ['conv2d_15[0][0]']              \n",
      "                                                                                                  \n",
      " depthwise_conv2d_3 (DepthwiseC  (None, 28, 28, 96)  960         ['conv2d_16[0][0]']              \n",
      " onv2D)                                                                                           \n",
      "                                                                                                  \n",
      " add_2 (Add)                    (None, 56, 56, 48)   0           ['conv2d_5[0][0]',               \n",
      "                                                                  'conv2d_9[0][0]',               \n",
      "                                                                  'conv2d_13[0][0]',              \n",
      "                                                                  'conv2d_1[0][0]']               \n",
      "                                                                                                  \n",
      " conv2d_17 (Conv2D)             (None, 28, 28, 96)   9312        ['depthwise_conv2d_3[0][0]']     \n",
      "                                                                                                  \n",
      " conv2d_14 (Conv2D)             (None, 56, 56, 96)   4704        ['add_2[0][0]']                  \n",
      "                                                                                                  \n",
      " conv2d_18 (Conv2D)             (None, 28, 28, 96)   9312        ['conv2d_17[0][0]']              \n",
      "                                                                                                  \n",
      " max_pooling2d_1 (MaxPooling2D)  (None, 28, 28, 96)  0           ['conv2d_14[0][0]']              \n",
      "                                                                                                  \n",
      " add_4 (Add)                    (None, 28, 28, 96)   0           ['conv2d_18[0][0]',              \n",
      "                                                                  'max_pooling2d_1[0][0]']        \n",
      "                                                                                                  \n",
      " conv2d_19 (Conv2D)             (None, 28, 28, 96)   9312        ['add_4[0][0]']                  \n",
      "                                                                                                  \n",
      " conv2d_20 (Conv2D)             (None, 28, 28, 96)   9312        ['conv2d_19[0][0]']              \n",
      "                                                                                                  \n",
      " depthwise_conv2d_4 (DepthwiseC  (None, 28, 28, 96)  960         ['conv2d_20[0][0]']              \n",
      " onv2D)                                                                                           \n",
      "                                                                                                  \n",
      " conv2d_21 (Conv2D)             (None, 28, 28, 96)   9312        ['depthwise_conv2d_4[0][0]']     \n",
      "                                                                                                  \n",
      " conv2d_22 (Conv2D)             (None, 28, 28, 96)   9312        ['conv2d_21[0][0]']              \n",
      "                                                                                                  \n",
      " add_5 (Add)                    (None, 28, 28, 96)   0           ['conv2d_18[0][0]',              \n",
      "                                                                  'conv2d_22[0][0]',              \n",
      "                                                                  'max_pooling2d_1[0][0]']        \n",
      "                                                                                                  \n",
      " conv2d_23 (Conv2D)             (None, 28, 28, 96)   9312        ['add_5[0][0]']                  \n",
      "                                                                                                  \n",
      " conv2d_24 (Conv2D)             (None, 28, 28, 96)   9312        ['conv2d_23[0][0]']              \n",
      "                                                                                                  \n",
      " depthwise_conv2d_5 (DepthwiseC  (None, 28, 28, 96)  960         ['conv2d_24[0][0]']              \n",
      " onv2D)                                                                                           \n",
      "                                                                                                  \n",
      " conv2d_25 (Conv2D)             (None, 28, 28, 96)   9312        ['depthwise_conv2d_5[0][0]']     \n",
      "                                                                                                  \n",
      " conv2d_26 (Conv2D)             (None, 28, 28, 96)   9312        ['conv2d_25[0][0]']              \n",
      "                                                                                                  \n",
      " add_6 (Add)                    (None, 28, 28, 96)   0           ['conv2d_18[0][0]',              \n",
      "                                                                  'conv2d_22[0][0]',              \n",
      "                                                                  'conv2d_26[0][0]',              \n",
      "                                                                  'max_pooling2d_1[0][0]']        \n",
      "                                                                                                  \n",
      " conv2d_27 (Conv2D)             (None, 28, 28, 96)   9312        ['add_6[0][0]']                  \n",
      "                                                                                                  \n",
      " conv2d_28 (Conv2D)             (None, 28, 28, 96)   9312        ['conv2d_27[0][0]']              \n",
      "                                                                                                  \n",
      " depthwise_conv2d_6 (DepthwiseC  (None, 28, 28, 96)  960         ['conv2d_28[0][0]']              \n",
      " onv2D)                                                                                           \n",
      "                                                                                                  \n",
      " conv2d_29 (Conv2D)             (None, 28, 28, 96)   9312        ['depthwise_conv2d_6[0][0]']     \n",
      "                                                                                                  \n",
      " conv2d_30 (Conv2D)             (None, 28, 28, 96)   9312        ['conv2d_29[0][0]']              \n",
      "                                                                                                  \n",
      " add_8 (Add)                    (None, 28, 28, 96)   0           ['conv2d_18[0][0]',              \n",
      "                                                                  'conv2d_22[0][0]',              \n",
      "                                                                  'conv2d_26[0][0]',              \n",
      "                                                                  'conv2d_30[0][0]',              \n",
      "                                                                  'max_pooling2d_1[0][0]']        \n",
      "                                                                                                  \n",
      " conv2d_32 (Conv2D)             (None, 28, 28, 192)  18624       ['add_8[0][0]']                  \n",
      "                                                                                                  \n",
      " conv2d_33 (Conv2D)             (None, 28, 28, 192)  37056       ['conv2d_32[0][0]']              \n",
      "                                                                                                  \n",
      " depthwise_conv2d_7 (DepthwiseC  (None, 14, 14, 192)  1920       ['conv2d_33[0][0]']              \n",
      " onv2D)                                                                                           \n",
      "                                                                                                  \n",
      " add_7 (Add)                    (None, 28, 28, 96)   0           ['conv2d_18[0][0]',              \n",
      "                                                                  'conv2d_22[0][0]',              \n",
      "                                                                  'conv2d_26[0][0]',              \n",
      "                                                                  'conv2d_30[0][0]',              \n",
      "                                                                  'max_pooling2d_1[0][0]']        \n",
      "                                                                                                  \n",
      " conv2d_34 (Conv2D)             (None, 14, 14, 192)  37056       ['depthwise_conv2d_7[0][0]']     \n",
      "                                                                                                  \n",
      " conv2d_31 (Conv2D)             (None, 28, 28, 192)  18624       ['add_7[0][0]']                  \n",
      "                                                                                                  \n",
      " conv2d_35 (Conv2D)             (None, 14, 14, 192)  37056       ['conv2d_34[0][0]']              \n",
      "                                                                                                  \n",
      " max_pooling2d_2 (MaxPooling2D)  (None, 14, 14, 192)  0          ['conv2d_31[0][0]']              \n",
      "                                                                                                  \n",
      " add_9 (Add)                    (None, 14, 14, 192)  0           ['conv2d_35[0][0]',              \n",
      "                                                                  'max_pooling2d_2[0][0]']        \n",
      "                                                                                                  \n",
      " conv2d_36 (Conv2D)             (None, 14, 14, 192)  37056       ['add_9[0][0]']                  \n",
      "                                                                                                  \n",
      " conv2d_37 (Conv2D)             (None, 14, 14, 192)  37056       ['conv2d_36[0][0]']              \n",
      "                                                                                                  \n",
      " depthwise_conv2d_8 (DepthwiseC  (None, 14, 14, 192)  1920       ['conv2d_37[0][0]']              \n",
      " onv2D)                                                                                           \n",
      "                                                                                                  \n",
      " conv2d_38 (Conv2D)             (None, 14, 14, 192)  37056       ['depthwise_conv2d_8[0][0]']     \n",
      "                                                                                                  \n",
      " conv2d_39 (Conv2D)             (None, 14, 14, 192)  37056       ['conv2d_38[0][0]']              \n",
      "                                                                                                  \n",
      " add_10 (Add)                   (None, 14, 14, 192)  0           ['conv2d_35[0][0]',              \n",
      "                                                                  'conv2d_39[0][0]',              \n",
      "                                                                  'max_pooling2d_2[0][0]']        \n",
      "                                                                                                  \n",
      " conv2d_40 (Conv2D)             (None, 14, 14, 192)  37056       ['add_10[0][0]']                 \n",
      "                                                                                                  \n",
      " conv2d_41 (Conv2D)             (None, 14, 14, 192)  37056       ['conv2d_40[0][0]']              \n",
      "                                                                                                  \n",
      " depthwise_conv2d_9 (DepthwiseC  (None, 14, 14, 192)  1920       ['conv2d_41[0][0]']              \n",
      " onv2D)                                                                                           \n",
      "                                                                                                  \n",
      " conv2d_42 (Conv2D)             (None, 14, 14, 192)  37056       ['depthwise_conv2d_9[0][0]']     \n",
      "                                                                                                  \n",
      " conv2d_43 (Conv2D)             (None, 14, 14, 192)  37056       ['conv2d_42[0][0]']              \n",
      "                                                                                                  \n",
      " add_11 (Add)                   (None, 14, 14, 192)  0           ['conv2d_35[0][0]',              \n",
      "                                                                  'conv2d_39[0][0]',              \n",
      "                                                                  'conv2d_43[0][0]',              \n",
      "                                                                  'max_pooling2d_2[0][0]']        \n",
      "                                                                                                  \n",
      " conv2d_44 (Conv2D)             (None, 14, 14, 192)  37056       ['add_11[0][0]']                 \n",
      "                                                                                                  \n",
      " conv2d_45 (Conv2D)             (None, 14, 14, 192)  37056       ['conv2d_44[0][0]']              \n",
      "                                                                                                  \n",
      " depthwise_conv2d_10 (Depthwise  (None, 14, 14, 192)  1920       ['conv2d_45[0][0]']              \n",
      " Conv2D)                                                                                          \n",
      "                                                                                                  \n",
      " conv2d_46 (Conv2D)             (None, 14, 14, 192)  37056       ['depthwise_conv2d_10[0][0]']    \n",
      "                                                                                                  \n",
      " conv2d_47 (Conv2D)             (None, 14, 14, 192)  37056       ['conv2d_46[0][0]']              \n",
      "                                                                                                  \n",
      " add_12 (Add)                   (None, 14, 14, 192)  0           ['conv2d_35[0][0]',              \n",
      "                                                                  'conv2d_39[0][0]',              \n",
      "                                                                  'conv2d_43[0][0]',              \n",
      "                                                                  'conv2d_47[0][0]',              \n",
      "                                                                  'max_pooling2d_2[0][0]']        \n",
      "                                                                                                  \n",
      " conv2d_48 (Conv2D)             (None, 14, 14, 192)  37056       ['add_12[0][0]']                 \n",
      "                                                                                                  \n",
      " conv2d_49 (Conv2D)             (None, 14, 14, 192)  37056       ['conv2d_48[0][0]']              \n",
      "                                                                                                  \n",
      " depthwise_conv2d_11 (Depthwise  (None, 14, 14, 192)  1920       ['conv2d_49[0][0]']              \n",
      " Conv2D)                                                                                          \n",
      "                                                                                                  \n",
      " conv2d_50 (Conv2D)             (None, 14, 14, 192)  37056       ['depthwise_conv2d_11[0][0]']    \n",
      "                                                                                                  \n",
      " conv2d_51 (Conv2D)             (None, 14, 14, 192)  37056       ['conv2d_50[0][0]']              \n",
      "                                                                                                  \n",
      " add_13 (Add)                   (None, 14, 14, 192)  0           ['conv2d_35[0][0]',              \n",
      "                                                                  'conv2d_39[0][0]',              \n",
      "                                                                  'conv2d_43[0][0]',              \n",
      "                                                                  'conv2d_47[0][0]',              \n",
      "                                                                  'conv2d_51[0][0]',              \n",
      "                                                                  'max_pooling2d_2[0][0]']        \n",
      "                                                                                                  \n",
      " conv2d_52 (Conv2D)             (None, 14, 14, 192)  37056       ['add_13[0][0]']                 \n",
      "                                                                                                  \n",
      " conv2d_53 (Conv2D)             (None, 14, 14, 192)  37056       ['conv2d_52[0][0]']              \n",
      "                                                                                                  \n",
      " depthwise_conv2d_12 (Depthwise  (None, 14, 14, 192)  1920       ['conv2d_53[0][0]']              \n",
      " Conv2D)                                                                                          \n",
      "                                                                                                  \n",
      " conv2d_54 (Conv2D)             (None, 14, 14, 192)  37056       ['depthwise_conv2d_12[0][0]']    \n",
      "                                                                                                  \n",
      " conv2d_55 (Conv2D)             (None, 14, 14, 192)  37056       ['conv2d_54[0][0]']              \n",
      "                                                                                                  \n",
      " add_15 (Add)                   (None, 14, 14, 192)  0           ['conv2d_35[0][0]',              \n",
      "                                                                  'conv2d_39[0][0]',              \n",
      "                                                                  'conv2d_43[0][0]',              \n",
      "                                                                  'conv2d_47[0][0]',              \n",
      "                                                                  'conv2d_51[0][0]',              \n",
      "                                                                  'conv2d_55[0][0]',              \n",
      "                                                                  'max_pooling2d_2[0][0]']        \n",
      "                                                                                                  \n",
      " conv2d_57 (Conv2D)             (None, 14, 14, 384)  74112       ['add_15[0][0]']                 \n",
      "                                                                                                  \n",
      " conv2d_58 (Conv2D)             (None, 14, 14, 384)  147840      ['conv2d_57[0][0]']              \n",
      "                                                                                                  \n",
      " depthwise_conv2d_13 (Depthwise  (None, 7, 7, 384)   3840        ['conv2d_58[0][0]']              \n",
      " Conv2D)                                                                                          \n",
      "                                                                                                  \n",
      " add_14 (Add)                   (None, 14, 14, 192)  0           ['conv2d_35[0][0]',              \n",
      "                                                                  'conv2d_39[0][0]',              \n",
      "                                                                  'conv2d_43[0][0]',              \n",
      "                                                                  'conv2d_47[0][0]',              \n",
      "                                                                  'conv2d_51[0][0]',              \n",
      "                                                                  'conv2d_55[0][0]',              \n",
      "                                                                  'max_pooling2d_2[0][0]']        \n",
      "                                                                                                  \n",
      " conv2d_59 (Conv2D)             (None, 7, 7, 384)    147840      ['depthwise_conv2d_13[0][0]']    \n",
      "                                                                                                  \n",
      " conv2d_56 (Conv2D)             (None, 14, 14, 384)  74112       ['add_14[0][0]']                 \n",
      "                                                                                                  \n",
      " conv2d_60 (Conv2D)             (None, 7, 7, 384)    147840      ['conv2d_59[0][0]']              \n",
      "                                                                                                  \n",
      " max_pooling2d_3 (MaxPooling2D)  (None, 7, 7, 384)   0           ['conv2d_56[0][0]']              \n",
      "                                                                                                  \n",
      " add_16 (Add)                   (None, 7, 7, 384)    0           ['conv2d_60[0][0]',              \n",
      "                                                                  'max_pooling2d_3[0][0]']        \n",
      "                                                                                                  \n",
      " conv2d_61 (Conv2D)             (None, 7, 7, 384)    147840      ['add_16[0][0]']                 \n",
      "                                                                                                  \n",
      " conv2d_62 (Conv2D)             (None, 7, 7, 384)    147840      ['conv2d_61[0][0]']              \n",
      "                                                                                                  \n",
      " depthwise_conv2d_14 (Depthwise  (None, 7, 7, 384)   3840        ['conv2d_62[0][0]']              \n",
      " Conv2D)                                                                                          \n",
      "                                                                                                  \n",
      " conv2d_63 (Conv2D)             (None, 7, 7, 384)    147840      ['depthwise_conv2d_14[0][0]']    \n",
      "                                                                                                  \n",
      " conv2d_64 (Conv2D)             (None, 7, 7, 384)    147840      ['conv2d_63[0][0]']              \n",
      "                                                                                                  \n",
      " add_17 (Add)                   (None, 7, 7, 384)    0           ['conv2d_60[0][0]',              \n",
      "                                                                  'conv2d_64[0][0]',              \n",
      "                                                                  'max_pooling2d_3[0][0]']        \n",
      "                                                                                                  \n",
      " conv2d_65 (Conv2D)             (None, 7, 7, 384)    147840      ['add_17[0][0]']                 \n",
      "                                                                                                  \n",
      " conv2d_66 (Conv2D)             (None, 7, 7, 384)    147840      ['conv2d_65[0][0]']              \n",
      "                                                                                                  \n",
      " depthwise_conv2d_15 (Depthwise  (None, 7, 7, 384)   3840        ['conv2d_66[0][0]']              \n",
      " Conv2D)                                                                                          \n",
      "                                                                                                  \n",
      " conv2d_67 (Conv2D)             (None, 7, 7, 384)    147840      ['depthwise_conv2d_15[0][0]']    \n",
      "                                                                                                  \n",
      " conv2d_68 (Conv2D)             (None, 7, 7, 384)    147840      ['conv2d_67[0][0]']              \n",
      "                                                                                                  \n",
      " add_18 (Add)                   (None, 7, 7, 384)    0           ['conv2d_60[0][0]',              \n",
      "                                                                  'conv2d_64[0][0]',              \n",
      "                                                                  'conv2d_68[0][0]',              \n",
      "                                                                  'max_pooling2d_3[0][0]']        \n",
      "                                                                                                  \n",
      " flatten (Flatten)              (None, 18816)        0           ['add_18[0][0]']                 \n",
      "                                                                                                  \n",
      " dense (Dense)                  (None, 96)           1806432     ['flatten[0][0]']                \n",
      "                                                                                                  \n",
      " dense_1 (Dense)                (None, 48)           4656        ['dense[0][0]']                  \n",
      "                                                                                                  \n",
      " dense_2 (Dense)                (None, 3)            147         ['dense_1[0][0]']                \n",
      "                                                                                                  \n",
      "==================================================================================================\n",
      "Total params: 4,690,323\n",
      "Trainable params: 4,690,323\n",
      "Non-trainable params: 0\n",
      "__________________________________________________________________________________________________\n"
     ]
    }
   ],
   "source": [
    "model2.summary()"
   ]
  },
  {
   "cell_type": "markdown",
   "metadata": {
    "id": "7ioFyOz9_c_Y"
   },
   "source": [
    "## test evaluation"
   ]
  },
  {
   "cell_type": "code",
   "execution_count": 7,
   "metadata": {
    "colab": {
     "base_uri": "https://localhost:8080/"
    },
    "id": "FwUwpSJhIEAz",
    "outputId": "ad8ea214-2e9b-4652-864b-93cbf2068b5c"
   },
   "outputs": [
    {
     "name": "stdout",
     "output_type": "stream",
     "text": [
      "915/915 [==============================] - 368s 402ms/step - loss: 0.2883 - accuracy: 0.8918\n",
      "Loss:  0.2883496582508087\n",
      "Accuracy:  0.8918032646179199\n"
     ]
    }
   ],
   "source": [
    "#evaluation with last epoch weights\n",
    "loss, accuracy = model2.evaluate(test_dataset)\n",
    "print(\"Loss: \", loss)\n",
    "print(\"Accuracy: \", accuracy)"
   ]
  },
  {
   "cell_type": "code",
   "execution_count": 8,
   "metadata": {
    "colab": {
     "base_uri": "https://localhost:8080/"
    },
    "id": "OKfABf7k-7hJ",
    "outputId": "19cb790c-edae-4a47-e793-092c797c5156"
   },
   "outputs": [
    {
     "data": {
      "text/plain": [
       "<tensorflow.python.checkpoint.checkpoint.CheckpointLoadStatus at 0x7f4efd522a40>"
      ]
     },
     "execution_count": 8,
     "metadata": {},
     "output_type": "execute_result"
    }
   ],
   "source": [
    "# loading the weights with the best accuracy of validation dataset\n",
    "model2.load_weights(checkpoint_filepath)"
   ]
  },
  {
   "cell_type": "code",
   "execution_count": 9,
   "metadata": {
    "colab": {
     "base_uri": "https://localhost:8080/"
    },
    "id": "_EE9N6X9_ZQV",
    "outputId": "cb26fb3d-bd6c-43d0-99a6-70b5102f531d"
   },
   "outputs": [
    {
     "name": "stdout",
     "output_type": "stream",
     "text": [
      "915/915 [==============================] - 15s 16ms/step - loss: 0.1932 - accuracy: 0.9410\n",
      "Loss:  0.1932021677494049\n",
      "Accuracy:  0.9409835934638977\n"
     ]
    }
   ],
   "source": [
    "loss, accuracy = model2.evaluate(test_dataset)\n",
    "print(\"Loss: \", loss)\n",
    "print(\"Accuracy: \", accuracy)"
   ]
  },
  {
   "cell_type": "code",
   "execution_count": 10,
   "metadata": {
    "colab": {
     "base_uri": "https://localhost:8080/"
    },
    "id": "z2DEoxIC_l-p",
    "outputId": "d11be486-ad92-43f9-8125-0de7c44d1303"
   },
   "outputs": [
    {
     "name": "stdout",
     "output_type": "stream",
     "text": [
      "915/915 [==============================] - 15s 16ms/step\n"
     ]
    }
   ],
   "source": [
    "with tf.device('/gpu:0'):\n",
    "  test_values = model2.predict(test_dataset, steps=test_steps)"
   ]
  },
  {
   "cell_type": "code",
   "execution_count": 11,
   "metadata": {
    "id": "znvwCsjT_ptD"
   },
   "outputs": [],
   "source": [
    "#save the prediction of the model on the test dataset to use in ensemble model\n",
    "np.save(\"test_p_covid\", test_values)"
   ]
  },
  {
   "cell_type": "markdown",
   "metadata": {
    "id": "F7UEG33mAPeW"
   },
   "source": [
    "### precision, recall, fscore"
   ]
  },
  {
   "cell_type": "code",
   "execution_count": 12,
   "metadata": {
    "id": "ajWPdzno_qff"
   },
   "outputs": [],
   "source": [
    "# preparing test result\n",
    "\n",
    "test_value_max = np.argmax(test_values,axis=1)\n",
    "test_value_max_oh = convert_to_one_hot(test_value_max,3).T"
   ]
  },
  {
   "cell_type": "code",
   "execution_count": 13,
   "metadata": {
    "colab": {
     "base_uri": "https://localhost:8080/"
    },
    "id": "aOmbjA1e_3mt",
    "outputId": "c1bb39a3-972a-4fbc-fc12-3e5f0c6ac607"
   },
   "outputs": [
    {
     "name": "stdout",
     "output_type": "stream",
     "text": [
      "Accuracy = 94.10%\n",
      "              precision    recall  f1-score   support\n",
      "\n",
      "           0       0.88      0.96      0.92       280\n",
      "           1       0.96      0.97      0.96       320\n",
      "           2       0.99      0.90      0.94       315\n",
      "\n",
      "   micro avg       0.94      0.94      0.94       915\n",
      "   macro avg       0.94      0.94      0.94       915\n",
      "weighted avg       0.94      0.94      0.94       915\n",
      " samples avg       0.94      0.94      0.94       915\n",
      "\n"
     ]
    }
   ],
   "source": [
    "accuracy = accuracy_score(y_true_oh, test_value_max_oh)\n",
    "\n",
    "print('Accuracy = {:.2f}%'.format(accuracy*100))\n",
    "print(classification_report(y_true_oh, test_value_max_oh,target_names=['0','1','2']))"
   ]
  },
  {
   "cell_type": "markdown",
   "metadata": {
    "id": "y9VnEw6W-k75"
   },
   "source": [
    "###confusion matrix"
   ]
  },
  {
   "cell_type": "code",
   "execution_count": 14,
   "metadata": {
    "colab": {
     "base_uri": "https://localhost:8080/",
     "height": 487
    },
    "id": "TMvVEbp2BE3P",
    "outputId": "24f4ecf7-7b43-45e5-d3a1-a6d51af74c5d"
   },
   "outputs": [
    {
     "data": {
      "image/png": "[encoded data removed]",
      "text/plain": [
       "<Figure size 700x500 with 2 Axes>"
      ]
     },
     "metadata": {},
     "output_type": "display_data"
    }
   ],
   "source": [
    "import seaborn as sns\n",
    "import matplotlib.pyplot as plt\n",
    "\n",
    "cf_matrix = confusion_matrix(y_true,test_value_max)\n",
    "\n",
    "plt.figure(figsize = (7,5))\n",
    "plt.title('Covidnet')\n",
    "x_axis_labels = ['Normal','Covid','Pneumonia']\n",
    "sns.heatmap(cf_matrix, annot=True,  fmt='g', cmap=\"Greens\", xticklabels=x_axis_labels, yticklabels=x_axis_labels)\n",
    "plt.xlabel('Prediction class', color = 'r')\n",
    "plt.ylabel(ylabel='True Class', color=\"r\")\n",
    "plt.savefig('h_covid.png')"
   ]
  }
 ],
 "metadata": {
  "accelerator": "GPU",
  "colab": {
   "collapsed_sections": [
    "w67iXX3xAtBu"
   ],
   "gpuType": "T4",
   "machine_shape": "hm",
   "provenance": []
  },
  "kernelspec": {
   "display_name": "Python 3 (ipykernel)",
   "language": "python",
   "name": "python3"
  },
  "language_info": {
   "codemirror_mode": {
    "name": "ipython",
    "version": 3
   },
   "file_extension": ".py",
   "mimetype": "text/x-python",
   "name": "python",
   "nbconvert_exporter": "python",
   "pygments_lexer": "ipython3",
   "version": "3.8.2"
  }
 },
 "nbformat": 4,
 "nbformat_minor": 1
}
